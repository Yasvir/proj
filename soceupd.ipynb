{
  "nbformat": 4,
  "nbformat_minor": 0,
  "metadata": {
    "colab": {
      "name": "Untitled2.ipynb",
      "provenance": [],
      "mount_file_id": "1wXcZ06jGn9H67MhFDbcTZNF_Egg_uWDl",
      "authorship_tag": "ABX9TyOjjGqNjR0nMyaxIdO+GfuZ",
      "include_colab_link": true
    },
    "kernelspec": {
      "name": "python3",
      "display_name": "Python 3"
    },
    "language_info": {
      "name": "python"
    }
  },
  "cells": [
    {
      "cell_type": "markdown",
      "metadata": {
        "id": "view-in-github",
        "colab_type": "text"
      },
      "source": [
        "<a href=\"https://colab.research.google.com/github/Yasvir/proj/blob/main/soceupd.ipynb\" target=\"_parent\"><img src=\"https://colab.research.google.com/assets/colab-badge.svg\" alt=\"Open In Colab\"/></a>"
      ]
    },
    {
      "cell_type": "code",
      "execution_count": null,
      "metadata": {
        "id": "D1QPmuaNq6Bo"
      },
      "outputs": [],
      "source": [
        "import pandas as pd\n",
        "import numpy as np\n"
      ]
    },
    {
      "cell_type": "code",
      "source": [
        ""
      ],
      "metadata": {
        "id": "D43XFhiKq9cs"
      },
      "execution_count": null,
      "outputs": []
    },
    {
      "cell_type": "code",
      "source": [
        "\n",
        "df=pd.read_csv(\"drive/MyDrive/crack_detection.csv\")"
      ],
      "metadata": {
        "id": "6Z_W7_JysUcj"
      },
      "execution_count": 73,
      "outputs": []
    },
    {
      "cell_type": "code",
      "source": [
        "df"
      ],
      "metadata": {
        "colab": {
          "base_uri": "https://localhost:8080/",
          "height": 505
        },
        "id": "TpAtp-4Muj0K",
        "outputId": "8c76da00-68be-4531-f40e-e0913a754c90"
      },
      "execution_count": 74,
      "outputs": [
        {
          "output_type": "execute_result",
          "data": {
            "text/plain": [
              "     Unnamed: 0    mean_r      std_r     kur_r    skew_r    mean_g      std_g  \\\n",
              "0             0  107.5734  29.267480  0.744029  0.408828  110.2533  26.953218   \n",
              "1             1  178.6713  14.917756  3.192406  0.238175  184.4947  14.882156   \n",
              "2             2  176.6517  34.618255 -0.146336 -0.421552  161.3083  33.688699   \n",
              "3             3  113.5760  20.084502  0.719752  0.737728  114.0056  19.536222   \n",
              "4             4  125.3565  29.251595  0.430344  0.833496  129.5277  28.661968   \n",
              "..          ...       ...        ...       ...       ...       ...        ...   \n",
              "695         695  147.4849  39.849040 -0.413560 -0.713162  143.8830  36.109081   \n",
              "696         696  131.6387  22.462007  0.060316 -0.598803  129.3470  20.965238   \n",
              "697         697  124.9098  24.410827 -0.014904  0.298252  130.4604  23.675959   \n",
              "698         698  100.5366  41.107908 -0.385692  0.309762   98.8532  40.835684   \n",
              "699         699  138.0759   6.627016  2.339072  0.414758  137.9345   6.328697   \n",
              "\n",
              "        kur_g    skew_g    mean_b  ...  contrast_r  contrast_g  contrast_b  \\\n",
              "0    1.254689 -0.135613  113.5715  ...    9.181953       177.0       173.0   \n",
              "1    3.035196  0.141160  190.8538  ...    9.207314       142.0       136.0   \n",
              "2    0.057178 -0.521476  147.2760  ...    9.186737       199.0       200.0   \n",
              "3    0.655846  0.729521  113.6179  ...    9.197973       146.0       142.0   \n",
              "4    0.475502  0.804161  131.9745  ...    9.189257       173.0       176.0   \n",
              "..        ...       ...       ...  ...         ...         ...         ...   \n",
              "695 -0.333042 -0.721668  138.3563  ...    9.180812       196.0       180.0   \n",
              "696  0.249974 -0.611380  125.9734  ...    9.199403       169.0       163.0   \n",
              "697 -0.086843  0.180634  135.0006  ...    9.195094       152.0       145.0   \n",
              "698 -0.356037  0.269909   98.9559  ...    9.125664       233.0       231.0   \n",
              "699  2.939153  0.477630  137.8309  ...    9.209413        93.0        91.0   \n",
              "\n",
              "     corr_rg   corr_rb   corr_gb  moment_r     moment_g     moment_b  label  \n",
              "0      162.0  0.951368  0.913876  0.803333   856.585412   726.475939      0  \n",
              "1      129.0  0.988325  0.989474  0.976787   222.539456   221.478572      0  \n",
              "2      194.0  0.968581  0.967398  0.890845  1198.423587  1134.928451      1  \n",
              "3      138.0  0.987383  0.983663  0.961305   403.387224   381.663969      0  \n",
              "4      177.0  0.980727  0.986702  0.950291   855.655808   821.508433      1  \n",
              "..       ...       ...       ...       ...          ...          ...    ...  \n",
              "695    168.0  0.991360  0.988178  0.968726  1587.945972  1303.865711      1  \n",
              "696    157.0  0.992205  0.977108  0.954988   504.541762   439.541191      1  \n",
              "697    143.0  0.981116  0.986397  0.953482   595.888464   560.551032      0  \n",
              "698    227.0  0.996501  0.997454  0.994056  1689.860060  1667.553050      1  \n",
              "699     92.0  0.962479  0.948542  0.926412    43.917339    40.052410      0  \n",
              "\n",
              "[700 rows x 25 columns]"
            ],
            "text/html": [
              "\n",
              "  <div id=\"df-64440624-53c0-4560-84e5-297ed804d417\">\n",
              "    <div class=\"colab-df-container\">\n",
              "      <div>\n",
              "<style scoped>\n",
              "    .dataframe tbody tr th:only-of-type {\n",
              "        vertical-align: middle;\n",
              "    }\n",
              "\n",
              "    .dataframe tbody tr th {\n",
              "        vertical-align: top;\n",
              "    }\n",
              "\n",
              "    .dataframe thead th {\n",
              "        text-align: right;\n",
              "    }\n",
              "</style>\n",
              "<table border=\"1\" class=\"dataframe\">\n",
              "  <thead>\n",
              "    <tr style=\"text-align: right;\">\n",
              "      <th></th>\n",
              "      <th>Unnamed: 0</th>\n",
              "      <th>mean_r</th>\n",
              "      <th>std_r</th>\n",
              "      <th>kur_r</th>\n",
              "      <th>skew_r</th>\n",
              "      <th>mean_g</th>\n",
              "      <th>std_g</th>\n",
              "      <th>kur_g</th>\n",
              "      <th>skew_g</th>\n",
              "      <th>mean_b</th>\n",
              "      <th>...</th>\n",
              "      <th>contrast_r</th>\n",
              "      <th>contrast_g</th>\n",
              "      <th>contrast_b</th>\n",
              "      <th>corr_rg</th>\n",
              "      <th>corr_rb</th>\n",
              "      <th>corr_gb</th>\n",
              "      <th>moment_r</th>\n",
              "      <th>moment_g</th>\n",
              "      <th>moment_b</th>\n",
              "      <th>label</th>\n",
              "    </tr>\n",
              "  </thead>\n",
              "  <tbody>\n",
              "    <tr>\n",
              "      <th>0</th>\n",
              "      <td>0</td>\n",
              "      <td>107.5734</td>\n",
              "      <td>29.267480</td>\n",
              "      <td>0.744029</td>\n",
              "      <td>0.408828</td>\n",
              "      <td>110.2533</td>\n",
              "      <td>26.953218</td>\n",
              "      <td>1.254689</td>\n",
              "      <td>-0.135613</td>\n",
              "      <td>113.5715</td>\n",
              "      <td>...</td>\n",
              "      <td>9.181953</td>\n",
              "      <td>177.0</td>\n",
              "      <td>173.0</td>\n",
              "      <td>162.0</td>\n",
              "      <td>0.951368</td>\n",
              "      <td>0.913876</td>\n",
              "      <td>0.803333</td>\n",
              "      <td>856.585412</td>\n",
              "      <td>726.475939</td>\n",
              "      <td>0</td>\n",
              "    </tr>\n",
              "    <tr>\n",
              "      <th>1</th>\n",
              "      <td>1</td>\n",
              "      <td>178.6713</td>\n",
              "      <td>14.917756</td>\n",
              "      <td>3.192406</td>\n",
              "      <td>0.238175</td>\n",
              "      <td>184.4947</td>\n",
              "      <td>14.882156</td>\n",
              "      <td>3.035196</td>\n",
              "      <td>0.141160</td>\n",
              "      <td>190.8538</td>\n",
              "      <td>...</td>\n",
              "      <td>9.207314</td>\n",
              "      <td>142.0</td>\n",
              "      <td>136.0</td>\n",
              "      <td>129.0</td>\n",
              "      <td>0.988325</td>\n",
              "      <td>0.989474</td>\n",
              "      <td>0.976787</td>\n",
              "      <td>222.539456</td>\n",
              "      <td>221.478572</td>\n",
              "      <td>0</td>\n",
              "    </tr>\n",
              "    <tr>\n",
              "      <th>2</th>\n",
              "      <td>2</td>\n",
              "      <td>176.6517</td>\n",
              "      <td>34.618255</td>\n",
              "      <td>-0.146336</td>\n",
              "      <td>-0.421552</td>\n",
              "      <td>161.3083</td>\n",
              "      <td>33.688699</td>\n",
              "      <td>0.057178</td>\n",
              "      <td>-0.521476</td>\n",
              "      <td>147.2760</td>\n",
              "      <td>...</td>\n",
              "      <td>9.186737</td>\n",
              "      <td>199.0</td>\n",
              "      <td>200.0</td>\n",
              "      <td>194.0</td>\n",
              "      <td>0.968581</td>\n",
              "      <td>0.967398</td>\n",
              "      <td>0.890845</td>\n",
              "      <td>1198.423587</td>\n",
              "      <td>1134.928451</td>\n",
              "      <td>1</td>\n",
              "    </tr>\n",
              "    <tr>\n",
              "      <th>3</th>\n",
              "      <td>3</td>\n",
              "      <td>113.5760</td>\n",
              "      <td>20.084502</td>\n",
              "      <td>0.719752</td>\n",
              "      <td>0.737728</td>\n",
              "      <td>114.0056</td>\n",
              "      <td>19.536222</td>\n",
              "      <td>0.655846</td>\n",
              "      <td>0.729521</td>\n",
              "      <td>113.6179</td>\n",
              "      <td>...</td>\n",
              "      <td>9.197973</td>\n",
              "      <td>146.0</td>\n",
              "      <td>142.0</td>\n",
              "      <td>138.0</td>\n",
              "      <td>0.987383</td>\n",
              "      <td>0.983663</td>\n",
              "      <td>0.961305</td>\n",
              "      <td>403.387224</td>\n",
              "      <td>381.663969</td>\n",
              "      <td>0</td>\n",
              "    </tr>\n",
              "    <tr>\n",
              "      <th>4</th>\n",
              "      <td>4</td>\n",
              "      <td>125.3565</td>\n",
              "      <td>29.251595</td>\n",
              "      <td>0.430344</td>\n",
              "      <td>0.833496</td>\n",
              "      <td>129.5277</td>\n",
              "      <td>28.661968</td>\n",
              "      <td>0.475502</td>\n",
              "      <td>0.804161</td>\n",
              "      <td>131.9745</td>\n",
              "      <td>...</td>\n",
              "      <td>9.189257</td>\n",
              "      <td>173.0</td>\n",
              "      <td>176.0</td>\n",
              "      <td>177.0</td>\n",
              "      <td>0.980727</td>\n",
              "      <td>0.986702</td>\n",
              "      <td>0.950291</td>\n",
              "      <td>855.655808</td>\n",
              "      <td>821.508433</td>\n",
              "      <td>1</td>\n",
              "    </tr>\n",
              "    <tr>\n",
              "      <th>...</th>\n",
              "      <td>...</td>\n",
              "      <td>...</td>\n",
              "      <td>...</td>\n",
              "      <td>...</td>\n",
              "      <td>...</td>\n",
              "      <td>...</td>\n",
              "      <td>...</td>\n",
              "      <td>...</td>\n",
              "      <td>...</td>\n",
              "      <td>...</td>\n",
              "      <td>...</td>\n",
              "      <td>...</td>\n",
              "      <td>...</td>\n",
              "      <td>...</td>\n",
              "      <td>...</td>\n",
              "      <td>...</td>\n",
              "      <td>...</td>\n",
              "      <td>...</td>\n",
              "      <td>...</td>\n",
              "      <td>...</td>\n",
              "      <td>...</td>\n",
              "    </tr>\n",
              "    <tr>\n",
              "      <th>695</th>\n",
              "      <td>695</td>\n",
              "      <td>147.4849</td>\n",
              "      <td>39.849040</td>\n",
              "      <td>-0.413560</td>\n",
              "      <td>-0.713162</td>\n",
              "      <td>143.8830</td>\n",
              "      <td>36.109081</td>\n",
              "      <td>-0.333042</td>\n",
              "      <td>-0.721668</td>\n",
              "      <td>138.3563</td>\n",
              "      <td>...</td>\n",
              "      <td>9.180812</td>\n",
              "      <td>196.0</td>\n",
              "      <td>180.0</td>\n",
              "      <td>168.0</td>\n",
              "      <td>0.991360</td>\n",
              "      <td>0.988178</td>\n",
              "      <td>0.968726</td>\n",
              "      <td>1587.945972</td>\n",
              "      <td>1303.865711</td>\n",
              "      <td>1</td>\n",
              "    </tr>\n",
              "    <tr>\n",
              "      <th>696</th>\n",
              "      <td>696</td>\n",
              "      <td>131.6387</td>\n",
              "      <td>22.462007</td>\n",
              "      <td>0.060316</td>\n",
              "      <td>-0.598803</td>\n",
              "      <td>129.3470</td>\n",
              "      <td>20.965238</td>\n",
              "      <td>0.249974</td>\n",
              "      <td>-0.611380</td>\n",
              "      <td>125.9734</td>\n",
              "      <td>...</td>\n",
              "      <td>9.199403</td>\n",
              "      <td>169.0</td>\n",
              "      <td>163.0</td>\n",
              "      <td>157.0</td>\n",
              "      <td>0.992205</td>\n",
              "      <td>0.977108</td>\n",
              "      <td>0.954988</td>\n",
              "      <td>504.541762</td>\n",
              "      <td>439.541191</td>\n",
              "      <td>1</td>\n",
              "    </tr>\n",
              "    <tr>\n",
              "      <th>697</th>\n",
              "      <td>697</td>\n",
              "      <td>124.9098</td>\n",
              "      <td>24.410827</td>\n",
              "      <td>-0.014904</td>\n",
              "      <td>0.298252</td>\n",
              "      <td>130.4604</td>\n",
              "      <td>23.675959</td>\n",
              "      <td>-0.086843</td>\n",
              "      <td>0.180634</td>\n",
              "      <td>135.0006</td>\n",
              "      <td>...</td>\n",
              "      <td>9.195094</td>\n",
              "      <td>152.0</td>\n",
              "      <td>145.0</td>\n",
              "      <td>143.0</td>\n",
              "      <td>0.981116</td>\n",
              "      <td>0.986397</td>\n",
              "      <td>0.953482</td>\n",
              "      <td>595.888464</td>\n",
              "      <td>560.551032</td>\n",
              "      <td>0</td>\n",
              "    </tr>\n",
              "    <tr>\n",
              "      <th>698</th>\n",
              "      <td>698</td>\n",
              "      <td>100.5366</td>\n",
              "      <td>41.107908</td>\n",
              "      <td>-0.385692</td>\n",
              "      <td>0.309762</td>\n",
              "      <td>98.8532</td>\n",
              "      <td>40.835684</td>\n",
              "      <td>-0.356037</td>\n",
              "      <td>0.269909</td>\n",
              "      <td>98.9559</td>\n",
              "      <td>...</td>\n",
              "      <td>9.125664</td>\n",
              "      <td>233.0</td>\n",
              "      <td>231.0</td>\n",
              "      <td>227.0</td>\n",
              "      <td>0.996501</td>\n",
              "      <td>0.997454</td>\n",
              "      <td>0.994056</td>\n",
              "      <td>1689.860060</td>\n",
              "      <td>1667.553050</td>\n",
              "      <td>1</td>\n",
              "    </tr>\n",
              "    <tr>\n",
              "      <th>699</th>\n",
              "      <td>699</td>\n",
              "      <td>138.0759</td>\n",
              "      <td>6.627016</td>\n",
              "      <td>2.339072</td>\n",
              "      <td>0.414758</td>\n",
              "      <td>137.9345</td>\n",
              "      <td>6.328697</td>\n",
              "      <td>2.939153</td>\n",
              "      <td>0.477630</td>\n",
              "      <td>137.8309</td>\n",
              "      <td>...</td>\n",
              "      <td>9.209413</td>\n",
              "      <td>93.0</td>\n",
              "      <td>91.0</td>\n",
              "      <td>92.0</td>\n",
              "      <td>0.962479</td>\n",
              "      <td>0.948542</td>\n",
              "      <td>0.926412</td>\n",
              "      <td>43.917339</td>\n",
              "      <td>40.052410</td>\n",
              "      <td>0</td>\n",
              "    </tr>\n",
              "  </tbody>\n",
              "</table>\n",
              "<p>700 rows × 25 columns</p>\n",
              "</div>\n",
              "      <button class=\"colab-df-convert\" onclick=\"convertToInteractive('df-64440624-53c0-4560-84e5-297ed804d417')\"\n",
              "              title=\"Convert this dataframe to an interactive table.\"\n",
              "              style=\"display:none;\">\n",
              "        \n",
              "  <svg xmlns=\"http://www.w3.org/2000/svg\" height=\"24px\"viewBox=\"0 0 24 24\"\n",
              "       width=\"24px\">\n",
              "    <path d=\"M0 0h24v24H0V0z\" fill=\"none\"/>\n",
              "    <path d=\"M18.56 5.44l.94 2.06.94-2.06 2.06-.94-2.06-.94-.94-2.06-.94 2.06-2.06.94zm-11 1L8.5 8.5l.94-2.06 2.06-.94-2.06-.94L8.5 2.5l-.94 2.06-2.06.94zm10 10l.94 2.06.94-2.06 2.06-.94-2.06-.94-.94-2.06-.94 2.06-2.06.94z\"/><path d=\"M17.41 7.96l-1.37-1.37c-.4-.4-.92-.59-1.43-.59-.52 0-1.04.2-1.43.59L10.3 9.45l-7.72 7.72c-.78.78-.78 2.05 0 2.83L4 21.41c.39.39.9.59 1.41.59.51 0 1.02-.2 1.41-.59l7.78-7.78 2.81-2.81c.8-.78.8-2.07 0-2.86zM5.41 20L4 18.59l7.72-7.72 1.47 1.35L5.41 20z\"/>\n",
              "  </svg>\n",
              "      </button>\n",
              "      \n",
              "  <style>\n",
              "    .colab-df-container {\n",
              "      display:flex;\n",
              "      flex-wrap:wrap;\n",
              "      gap: 12px;\n",
              "    }\n",
              "\n",
              "    .colab-df-convert {\n",
              "      background-color: #E8F0FE;\n",
              "      border: none;\n",
              "      border-radius: 50%;\n",
              "      cursor: pointer;\n",
              "      display: none;\n",
              "      fill: #1967D2;\n",
              "      height: 32px;\n",
              "      padding: 0 0 0 0;\n",
              "      width: 32px;\n",
              "    }\n",
              "\n",
              "    .colab-df-convert:hover {\n",
              "      background-color: #E2EBFA;\n",
              "      box-shadow: 0px 1px 2px rgba(60, 64, 67, 0.3), 0px 1px 3px 1px rgba(60, 64, 67, 0.15);\n",
              "      fill: #174EA6;\n",
              "    }\n",
              "\n",
              "    [theme=dark] .colab-df-convert {\n",
              "      background-color: #3B4455;\n",
              "      fill: #D2E3FC;\n",
              "    }\n",
              "\n",
              "    [theme=dark] .colab-df-convert:hover {\n",
              "      background-color: #434B5C;\n",
              "      box-shadow: 0px 1px 3px 1px rgba(0, 0, 0, 0.15);\n",
              "      filter: drop-shadow(0px 1px 2px rgba(0, 0, 0, 0.3));\n",
              "      fill: #FFFFFF;\n",
              "    }\n",
              "  </style>\n",
              "\n",
              "      <script>\n",
              "        const buttonEl =\n",
              "          document.querySelector('#df-64440624-53c0-4560-84e5-297ed804d417 button.colab-df-convert');\n",
              "        buttonEl.style.display =\n",
              "          google.colab.kernel.accessAllowed ? 'block' : 'none';\n",
              "\n",
              "        async function convertToInteractive(key) {\n",
              "          const element = document.querySelector('#df-64440624-53c0-4560-84e5-297ed804d417');\n",
              "          const dataTable =\n",
              "            await google.colab.kernel.invokeFunction('convertToInteractive',\n",
              "                                                     [key], {});\n",
              "          if (!dataTable) return;\n",
              "\n",
              "          const docLinkHtml = 'Like what you see? Visit the ' +\n",
              "            '<a target=\"_blank\" href=https://colab.research.google.com/notebooks/data_table.ipynb>data table notebook</a>'\n",
              "            + ' to learn more about interactive tables.';\n",
              "          element.innerHTML = '';\n",
              "          dataTable['output_type'] = 'display_data';\n",
              "          await google.colab.output.renderOutput(dataTable, element);\n",
              "          const docLink = document.createElement('div');\n",
              "          docLink.innerHTML = docLinkHtml;\n",
              "          element.appendChild(docLink);\n",
              "        }\n",
              "      </script>\n",
              "    </div>\n",
              "  </div>\n",
              "  "
            ]
          },
          "metadata": {},
          "execution_count": 74
        }
      ]
    },
    {
      "cell_type": "code",
      "source": [
        "#from sklearn.linear_model import LogisticRegression\n",
        "#clf = LogisticRegression(solver='liblinear', random_state=0)"
      ],
      "metadata": {
        "id": "NBfem2ZVvQ9t"
      },
      "execution_count": 75,
      "outputs": []
    },
    {
      "cell_type": "code",
      "source": [
        "X = df.drop(\"label\", axis=1)\n",
        "y = df[\"label\"]\n",
        "\n"
      ],
      "metadata": {
        "id": "MEtx-GidxapN"
      },
      "execution_count": 76,
      "outputs": []
    },
    {
      "cell_type": "code",
      "source": [
        "\n",
        "\n",
        "from sklearn.model_selection import train_test_split\n",
        "X_train, X_test, y_train, y_test = train_test_split(X, y,\n",
        "    test_size=0.2, shuffle = True, random_state = 8)\n",
        "\n",
        "\n",
        "X_train, X_val, y_train, y_val = train_test_split(X_train, y_train, \n",
        "    test_size=0.25, random_state= 8) # 0.25 x 0.8 = 0.2"
      ],
      "metadata": {
        "id": "8a7rEkWG27SQ"
      },
      "execution_count": 77,
      "outputs": []
    },
    {
      "cell_type": "code",
      "source": [
        "\n",
        "X_val.shape"
      ],
      "metadata": {
        "colab": {
          "base_uri": "https://localhost:8080/"
        },
        "id": "f5-RxOT13x2M",
        "outputId": "6f35523a-3266-4cde-9ad4-56dccf0e0e5f"
      },
      "execution_count": null,
      "outputs": [
        {
          "output_type": "execute_result",
          "data": {
            "text/plain": [
              "(140, 24)"
            ]
          },
          "metadata": {},
          "execution_count": 57
        }
      ]
    },
    {
      "cell_type": "code",
      "source": [
        "X_test.shape"
      ],
      "metadata": {
        "colab": {
          "base_uri": "https://localhost:8080/"
        },
        "id": "COK7XI5bzS9k",
        "outputId": "5a2553c4-b01c-4878-d94c-34ac724be255"
      },
      "execution_count": null,
      "outputs": [
        {
          "output_type": "execute_result",
          "data": {
            "text/plain": [
              "(140, 24)"
            ]
          },
          "metadata": {},
          "execution_count": 58
        }
      ]
    },
    {
      "cell_type": "code",
      "source": [
        "\n",
        "X_train.shape\n"
      ],
      "metadata": {
        "colab": {
          "base_uri": "https://localhost:8080/"
        },
        "id": "eAfjFrdtzjQl",
        "outputId": "b2560123-4d80-4466-d3b8-1b3edd3b01d4"
      },
      "execution_count": null,
      "outputs": [
        {
          "output_type": "execute_result",
          "data": {
            "text/plain": [
              "(420, 24)"
            ]
          },
          "metadata": {},
          "execution_count": 59
        }
      ]
    },
    {
      "cell_type": "code",
      "source": [
        ""
      ],
      "metadata": {
        "id": "edvw0n41Lpco"
      },
      "execution_count": null,
      "outputs": []
    },
    {
      "cell_type": "code",
      "source": [
        ""
      ],
      "metadata": {
        "id": "i7_i5YJ_LOFC"
      },
      "execution_count": null,
      "outputs": []
    },
    {
      "cell_type": "code",
      "source": [
        "\n",
        "import numpy as np\n",
        " \n",
        "class LogisticRegression:\n",
        "    def __init__(self,x,y):      \n",
        "        self.intercept = np.ones((x.shape[0], 1))  \n",
        "        self.x = np.concatenate((self.intercept, x), axis=1)\n",
        "        self.weight = np.zeros(self.x.shape[1])\n",
        "        self.y = y\n",
        "         \n",
        "\n",
        "    def sigmoid(self, x, weight):\n",
        "        z = np.dot(x, weight)\n",
        "        return 1 / (1 + np.exp(-z))\n",
        "   \n",
        "    def loss(self, h, y):\n",
        "        return (-y * np.log(h) - (1 - y) * np.log(1 - h)).mean()\n",
        "     \n",
        " \n",
        "    def gradient_descent(self, X, h, y):\n",
        "        return np.dot(X.T, (h - y)) / y.shape[0]\n",
        " \n",
        "     \n",
        "    def fit(self, lr , iterations):\n",
        "        for i in range(iterations):\n",
        "            sigma = self.sigmoid(self.x, self.weight)\n",
        "             \n",
        "            loss = self.loss(sigma,self.y)\n",
        " \n",
        "            dW = self.gradient_descent(self.x , sigma, self.y)\n",
        "             \n",
        "            #Updating the weights\n",
        "            self.weight -= lr * dW\n",
        " \n",
        "        return print('fitted successfully to data')\n",
        " \n",
        "    def predict(self, x_new , threshold):\n",
        "        x_new = np.concatenate((self.intercept, x_new), axis=1)\n",
        "        result = self.sigmoid(x_new, self.weight)\n",
        "        result = result >= threshold\n",
        "        y_pred = np.zeros(result.shape[0])\n",
        "        for i in range(len(y_pred)):\n",
        "            if result[i] == True: \n",
        "                y_pred[i] = 1\n",
        "            else:\n",
        "                continue\n",
        "                 \n",
        "        return y_pred"
      ],
      "metadata": {
        "id": "ZSnTovg3Ideu"
      },
      "execution_count": 79,
      "outputs": []
    },
    {
      "cell_type": "code",
      "source": [
        "regressor = LogisticRegression(X_train,y_train)\n",
        " \n",
        "#\n",
        "regressor.fit(100 , 4000)\n",
        "0\n",
        " \n",
        "y_pred = regressor.predict(X_train,0.5)\n",
        " \n",
        "print('accuracy -> {}'.format(sum(y_pred == y_train) / y_train.shape[0]))"
      ],
      "metadata": {
        "colab": {
          "base_uri": "https://localhost:8080/"
        },
        "id": "N3K-CuKRIkfX",
        "outputId": "1315b18a-47b5-44ab-90bb-ca46aa7f18de"
      },
      "execution_count": 105,
      "outputs": [
        {
          "output_type": "stream",
          "name": "stderr",
          "text": [
            "/usr/local/lib/python3.7/dist-packages/ipykernel_launcher.py:18: RuntimeWarning: divide by zero encountered in log\n",
            "/usr/local/lib/python3.7/dist-packages/ipykernel_launcher.py:14: RuntimeWarning: overflow encountered in exp\n",
            "  \n"
          ]
        },
        {
          "output_type": "stream",
          "name": "stdout",
          "text": [
            "fitted successfully to data\n",
            "accuracy -> 0.7785714285714286\n"
          ]
        }
      ]
    },
    {
      "cell_type": "code",
      "source": [
        "\n",
        " \n",
        "y_pred = regressor.predict(X_val,0.5)\n",
        " \n",
        "print('accuracy -> {}'.format(sum(y_pred == y_val) / y_val.shape[0]))"
      ],
      "metadata": {
        "colab": {
          "base_uri": "https://localhost:8080/"
        },
        "id": "TKyO3y_IIqTJ",
        "outputId": "8551f3ef-1550-4c78-86bc-efec4a839867"
      },
      "execution_count": 84,
      "outputs": [
        {
          "output_type": "stream",
          "name": "stdout",
          "text": [
            "accuracy -> 0.7785714285714286\n"
          ]
        },
        {
          "output_type": "stream",
          "name": "stderr",
          "text": [
            "/usr/local/lib/python3.7/dist-packages/ipykernel_launcher.py:14: RuntimeWarning: overflow encountered in exp\n",
            "  \n"
          ]
        }
      ]
    },
    {
      "cell_type": "code",
      "source": [
        "y_pred = regressor.predict(X_test,0.5)\n",
        " \n",
        "print('accuracy -> {}'.format(sum(y_test == y_pred) / y_test.shape[0]))"
      ],
      "metadata": {
        "id": "23F8O9BNYRwH",
        "colab": {
          "base_uri": "https://localhost:8080/"
        },
        "outputId": "72f22cb2-91fe-46a3-89e2-9ed0f9bb0e10"
      },
      "execution_count": 83,
      "outputs": [
        {
          "output_type": "stream",
          "name": "stdout",
          "text": [
            "accuracy -> 0.7071428571428572\n"
          ]
        },
        {
          "output_type": "stream",
          "name": "stderr",
          "text": [
            "/usr/local/lib/python3.7/dist-packages/ipykernel_launcher.py:14: RuntimeWarning: overflow encountered in exp\n",
            "  \n"
          ]
        }
      ]
    },
    {
      "cell_type": "code",
      "source": [
        "y_test.shape[0]"
      ],
      "metadata": {
        "id": "mgsCR2X_sWKY",
        "colab": {
          "base_uri": "https://localhost:8080/"
        },
        "outputId": "35ffdc67-ccd3-4304-9edf-db2593f89974"
      },
      "execution_count": 85,
      "outputs": [
        {
          "output_type": "execute_result",
          "data": {
            "text/plain": [
              "140"
            ]
          },
          "metadata": {},
          "execution_count": 85
        }
      ]
    },
    {
      "cell_type": "code",
      "source": [
        ""
      ],
      "metadata": {
        "id": "JK0_s3hIDO_F"
      },
      "execution_count": null,
      "outputs": []
    }
  ]
}